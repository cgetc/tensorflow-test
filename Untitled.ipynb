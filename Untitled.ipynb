{
 "cells": [
  {
   "cell_type": "code",
   "execution_count": 3,
   "metadata": {},
   "outputs": [],
   "source": [
    "from keras.datasets import imdb\n",
    "\n",
    "(train_data, train_labels), (test_data, test_labels) = imdb.load_data(num_words=10000)"
   ]
  },
  {
   "cell_type": "code",
   "execution_count": 7,
   "metadata": {},
   "outputs": [
    {
     "data": {
      "text/plain": [
       "\"? this film was just brilliant casting location scenery story direction everyone's really suited the part they played and you could just imagine being there robert ? is an amazing actor and now the same being director ? father came from the same scottish island as myself so i loved the fact there was a real connection with this film the witty remarks throughout the film were great it was just brilliant so much that i bought the film as soon as it was released for ? and would recommend it to everyone to watch and the fly fishing was amazing really cried at the end it was so sad and you know what they say if you cry at a film it must have been good and this definitely was also ? to the two little boy's that played the ? of norman and paul they were just brilliant children are often left out of the ? list i think because the stars that play them all grown up are such a big profile for the whole film but these children are amazing and should be praised for what they have done don't you think the whole story was so lovely because it was true and was someone's life after all that was shared with us all\""
      ]
     },
     "execution_count": 7,
     "metadata": {},
     "output_type": "execute_result"
    }
   ],
   "source": [
    "word_index = imdb.get_word_index()\n",
    "reverse_word_index = {value: key for key, value in word_index.items()}\n",
    "decoded_review = ' '.join([reverse_word_index.get(i - 3, '?') for i in train_data[0]])\n",
    "decoded_review"
   ]
  },
  {
   "cell_type": "code",
   "execution_count": 8,
   "metadata": {},
   "outputs": [],
   "source": [
    "import numpy as np\n",
    "\n",
    "def vectorize_sequences(sequences, dimension=10000):\n",
    "    results = np.zeros((len(sequences), dimension))\n",
    "    \n",
    "    for i, sequence in enumerate(sequences):\n",
    "        results[i, sequence] = 1\n",
    "    \n",
    "    return results\n",
    "\n",
    "x_train = vectorize_sequences(train_data)\n",
    "x_test = vectorize_sequences(test_data)\n",
    "x_train[0]"
   ]
  },
  {
   "cell_type": "code",
   "execution_count": 10,
   "metadata": {},
   "outputs": [],
   "source": [
    "y_train = np.asarray(train_labels).astype('float32')\n",
    "y_test = np.asarray(test_labels).astype('float32')"
   ]
  },
  {
   "cell_type": "code",
   "execution_count": 14,
   "metadata": {},
   "outputs": [],
   "source": [
    "from keras import models\n",
    "from keras import layers\n",
    "\n",
    "model = models.Sequential()\n",
    "model.add(layers.Dense(16, activation='relu', input_shape=(10000,)))\n",
    "model.add(layers.Dense(16, activation='relu'))\n",
    "model.add(layers.Dense(1, activation='sigmoid'))\n",
    "model.compile(optimizer='rmsprop', loss='binary_crossentropy', metrics=['accuracy'])"
   ]
  },
  {
   "cell_type": "code",
   "execution_count": 15,
   "metadata": {},
   "outputs": [
    {
     "name": "stdout",
     "output_type": "stream",
     "text": [
      "Train on 15000 samples, validate on 10000 samples\n",
      "Epoch 1/20\n",
      "15000/15000 [==============================] - 2s 146us/step - loss: 0.5391 - accuracy: 0.7649 - val_loss: 0.4608 - val_accuracy: 0.8268\n",
      "Epoch 2/20\n",
      "15000/15000 [==============================] - 2s 104us/step - loss: 0.3318 - accuracy: 0.8994 - val_loss: 0.3184 - val_accuracy: 0.8877\n",
      "Epoch 3/20\n",
      "15000/15000 [==============================] - 2s 103us/step - loss: 0.2421 - accuracy: 0.9230 - val_loss: 0.3313 - val_accuracy: 0.8655\n",
      "Epoch 4/20\n",
      "15000/15000 [==============================] - 2s 104us/step - loss: 0.1905 - accuracy: 0.9397 - val_loss: 0.2940 - val_accuracy: 0.8831\n",
      "Epoch 5/20\n",
      "15000/15000 [==============================] - 2s 103us/step - loss: 0.1548 - accuracy: 0.9517 - val_loss: 0.2758 - val_accuracy: 0.8880\n",
      "Epoch 6/20\n",
      "15000/15000 [==============================] - 2s 105us/step - loss: 0.1263 - accuracy: 0.9618 - val_loss: 0.2978 - val_accuracy: 0.8865\n",
      "Epoch 7/20\n",
      "15000/15000 [==============================] - 2s 105us/step - loss: 0.1062 - accuracy: 0.9690 - val_loss: 0.3283 - val_accuracy: 0.8798\n",
      "Epoch 8/20\n",
      "15000/15000 [==============================] - 2s 106us/step - loss: 0.0864 - accuracy: 0.9758 - val_loss: 0.3296 - val_accuracy: 0.8820\n",
      "Epoch 9/20\n",
      "15000/15000 [==============================] - 2s 105us/step - loss: 0.0741 - accuracy: 0.9803 - val_loss: 0.3416 - val_accuracy: 0.8811\n",
      "Epoch 10/20\n",
      "15000/15000 [==============================] - 2s 106us/step - loss: 0.0580 - accuracy: 0.9853 - val_loss: 0.3645 - val_accuracy: 0.8786\n",
      "Epoch 11/20\n",
      "15000/15000 [==============================] - 2s 105us/step - loss: 0.0513 - accuracy: 0.9866 - val_loss: 0.4344 - val_accuracy: 0.8650\n",
      "Epoch 12/20\n",
      "15000/15000 [==============================] - 2s 106us/step - loss: 0.0397 - accuracy: 0.9907 - val_loss: 0.4215 - val_accuracy: 0.8745\n",
      "Epoch 13/20\n",
      "15000/15000 [==============================] - 2s 106us/step - loss: 0.0324 - accuracy: 0.9939 - val_loss: 0.4448 - val_accuracy: 0.8742\n",
      "Epoch 14/20\n",
      "15000/15000 [==============================] - 2s 106us/step - loss: 0.0254 - accuracy: 0.9960 - val_loss: 0.4784 - val_accuracy: 0.8749\n",
      "Epoch 15/20\n",
      "15000/15000 [==============================] - 2s 106us/step - loss: 0.0224 - accuracy: 0.9961 - val_loss: 0.5494 - val_accuracy: 0.8639\n",
      "Epoch 16/20\n",
      "15000/15000 [==============================] - 2s 106us/step - loss: 0.0137 - accuracy: 0.9989 - val_loss: 0.6128 - val_accuracy: 0.8558\n",
      "Epoch 17/20\n",
      "15000/15000 [==============================] - 2s 105us/step - loss: 0.0143 - accuracy: 0.9982 - val_loss: 0.5695 - val_accuracy: 0.8704\n",
      "Epoch 18/20\n",
      "15000/15000 [==============================] - 2s 105us/step - loss: 0.0115 - accuracy: 0.9982 - val_loss: 0.6038 - val_accuracy: 0.8698\n",
      "Epoch 19/20\n",
      "15000/15000 [==============================] - 2s 106us/step - loss: 0.0061 - accuracy: 0.9995 - val_loss: 0.6501 - val_accuracy: 0.8648\n",
      "Epoch 20/20\n",
      "15000/15000 [==============================] - 2s 107us/step - loss: 0.0079 - accuracy: 0.9983 - val_loss: 0.6818 - val_accuracy: 0.8666\n"
     ]
    }
   ],
   "source": [
    "x_val = x_train[:10000]\n",
    "partial_x_train = x_train[10000:]\n",
    "y_val = y_train[:10000]\n",
    "partial_y_train = y_train[10000:]\n",
    "history = model.fit(partial_x_train, partial_y_train, epochs=20, batch_size=512, validation_data=(x_val, y_val))"
   ]
  },
  {
   "cell_type": "code",
   "execution_count": 19,
   "metadata": {},
   "outputs": [
    {
     "data": {
      "image/png": "[encoded data removed]",
      "text/plain": [
       "<Figure size 432x288 with 1 Axes>"
      ]
     },
     "metadata": {
      "needs_background": "light"
     },
     "output_type": "display_data"
    }
   ],
   "source": [
    "import matplotlib.pyplot as plt\n",
    "\n",
    "history_dict = history.history\n",
    "loss_values = history_dict['loss']\n",
    "val_loss_values = history_dict['val_loss']\n",
    "\n",
    "epochs = range(1, len(loss_values) + 1)\n",
    "\n",
    "plt.plot(epochs, loss_values, 'bo', label='Training loss')\n",
    "plt.plot(epochs, val_loss_values, 'b', label='Validation loss')\n",
    "plt.title('Training and validation loss')\n",
    "plt.xlabel('Epochs')\n",
    "plt.ylabel('Loss')\n",
    "plt.legend()\n",
    "plt.show()"
   ]
  },
  {
   "cell_type": "code",
   "execution_count": 21,
   "metadata": {},
   "outputs": [
    {
     "data": {
      "image/png": "[encoded data removed]",
      "text/plain": [
       "<Figure size 432x288 with 1 Axes>"
      ]
     },
     "metadata": {
      "needs_background": "light"
     },
     "output_type": "display_data"
    }
   ],
   "source": [
    "plt.clf()\n",
    "\n",
    "acc = history_dict['accuracy']\n",
    "val_acc = history_dict['val_accuracy']\n",
    "plt.plot(epochs, acc, 'bo', label='Training accuracy')\n",
    "plt.plot(epochs, val_acc, 'b', label='Validation accuracy')\n",
    "plt.title('Training and validation accuracy')\n",
    "plt.xlabel('Epochs')\n",
    "plt.ylabel('accuracy')\n",
    "plt.legend()\n",
    "plt.show()"
   ]
  },
  {
   "cell_type": "code",
   "execution_count": 22,
   "metadata": {},
   "outputs": [
    {
     "name": "stdout",
     "output_type": "stream",
     "text": [
      "Epoch 1/20\n",
      "25000/25000 [==============================] - 2s 78us/step - loss: 0.4950 - accuracy: 0.8216\n",
      "Epoch 2/20\n",
      "25000/25000 [==============================] - 2s 72us/step - loss: 0.2951 - accuracy: 0.9039\n",
      "Epoch 3/20\n",
      "25000/25000 [==============================] - 2s 74us/step - loss: 0.2212 - accuracy: 0.9238\n",
      "Epoch 4/20\n",
      "25000/25000 [==============================] - 2s 73us/step - loss: 0.1816 - accuracy: 0.9373\n",
      "Epoch 5/20\n",
      "25000/25000 [==============================] - 2s 74us/step - loss: 0.1564 - accuracy: 0.9462\n",
      "Epoch 6/20\n",
      "25000/25000 [==============================] - 2s 74us/step - loss: 0.1339 - accuracy: 0.9541\n",
      "Epoch 7/20\n",
      "25000/25000 [==============================] - 2s 73us/step - loss: 0.1155 - accuracy: 0.9622\n",
      "Epoch 8/20\n",
      "25000/25000 [==============================] - 2s 74us/step - loss: 0.1019 - accuracy: 0.9670\n",
      "Epoch 9/20\n",
      "25000/25000 [==============================] - 2s 74us/step - loss: 0.0862 - accuracy: 0.9726\n",
      "Epoch 10/20\n",
      "25000/25000 [==============================] - 2s 74us/step - loss: 0.0741 - accuracy: 0.9779\n",
      "Epoch 11/20\n",
      "25000/25000 [==============================] - 2s 73us/step - loss: 0.0645 - accuracy: 0.9821\n",
      "Epoch 12/20\n",
      "25000/25000 [==============================] - 2s 73us/step - loss: 0.0542 - accuracy: 0.9850\n",
      "Epoch 13/20\n",
      "25000/25000 [==============================] - 2s 73us/step - loss: 0.0476 - accuracy: 0.9872\n",
      "Epoch 14/20\n",
      "25000/25000 [==============================] - 2s 73us/step - loss: 0.0373 - accuracy: 0.9912\n",
      "Epoch 15/20\n",
      "25000/25000 [==============================] - 2s 74us/step - loss: 0.0320 - accuracy: 0.9933\n",
      "Epoch 16/20\n",
      "25000/25000 [==============================] - 2s 74us/step - loss: 0.0271 - accuracy: 0.9933\n",
      "Epoch 17/20\n",
      "25000/25000 [==============================] - 2s 73us/step - loss: 0.0202 - accuracy: 0.9956\n",
      "Epoch 18/20\n",
      "25000/25000 [==============================] - 2s 74us/step - loss: 0.0181 - accuracy: 0.9956\n",
      "Epoch 19/20\n",
      "25000/25000 [==============================] - 2s 73us/step - loss: 0.0153 - accuracy: 0.9966\n",
      "Epoch 20/20\n",
      "25000/25000 [==============================] - 2s 72us/step - loss: 0.0105 - accuracy: 0.9980\n",
      "25000/25000 [==============================] - 2s 65us/step\n"
     ]
    }
   ],
   "source": [
    "model = models.Sequential()\n",
    "model.add(layers.Dense(16, activation='relu', input_shape=(10000,)))\n",
    "model.add(layers.Dense(16, activation='relu'))\n",
    "model.add(layers.Dense(1, activation='sigmoid'))\n",
    "model.compile(optimizer='rmsprop', loss='binary_crossentropy', metrics=['accuracy'])\n",
    "model.fit(x_train, y_train, epochs=20, batch_size=512)\n",
    "results = model.evaluate(x_test, y_test)"
   ]
  },
  {
   "cell_type": "code",
   "execution_count": 24,
   "metadata": {},
   "outputs": [
    {
     "data": {
      "text/plain": [
       "array([[0.00780091],\n",
       "       [1.        ],\n",
       "       [0.9994942 ],\n",
       "       ...,\n",
       "       [0.05030876],\n",
       "       [0.00646395],\n",
       "       [0.93530726]], dtype=float32)"
      ]
     },
     "execution_count": 24,
     "metadata": {},
     "output_type": "execute_result"
    }
   ],
   "source": [
    "model.predict(x_test)"
   ]
  },
  {
   "cell_type": "code",
   "execution_count": null,
   "metadata": {},
   "outputs": [],
   "source": []
  }
 ],
 "metadata": {
  "kernelspec": {
   "display_name": "Python 3",
   "language": "python",
   "name": "python3"
  },
  "language_info": {
   "codemirror_mode": {
    "name": "ipython",
    "version": 3
   },
   "file_extension": ".py",
   "mimetype": "text/x-python",
   "name": "python",
   "nbconvert_exporter": "python",
   "pygments_lexer": "ipython3",
   "version": "3.7.6"
  }
 },
 "nbformat": 4,
 "nbformat_minor": 4
}
